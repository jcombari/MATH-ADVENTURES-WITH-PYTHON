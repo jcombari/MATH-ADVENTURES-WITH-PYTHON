{
 "cells": [
  {
   "cell_type": "code",
   "execution_count": 1,
   "id": "cc70972f",
   "metadata": {},
   "outputs": [],
   "source": [
    "from turtle import *"
   ]
  },
  {
   "cell_type": "code",
   "execution_count": 5,
   "id": "4abcff48",
   "metadata": {},
   "outputs": [],
   "source": [
    "forward(100)\n",
    "shape('turtle')"
   ]
  },
  {
   "cell_type": "code",
   "execution_count": 6,
   "id": "f5072f01",
   "metadata": {},
   "outputs": [],
   "source": [
    "right(45)\n",
    "forward(150)"
   ]
  },
  {
   "cell_type": "markdown",
   "id": "8ad7ea05",
   "metadata": {},
   "source": [
    "# USING THE FOR LOOP"
   ]
  },
  {
   "cell_type": "code",
   "execution_count": 9,
   "id": "150b78b6",
   "metadata": {},
   "outputs": [
    {
     "name": "stdout",
     "output_type": "stream",
     "text": [
      "hello\n",
      "hello\n"
     ]
    }
   ],
   "source": [
    "for i in range(2):\n",
    "    print('hello')\n"
   ]
  },
  {
   "cell_type": "code",
   "execution_count": 10,
   "id": "93f5020f",
   "metadata": {},
   "outputs": [],
   "source": [
    "for i in range(4):\n",
    "    forward(100)\n",
    "    right(90)\n"
   ]
  },
  {
   "cell_type": "code",
   "execution_count": 12,
   "id": "3750996a",
   "metadata": {},
   "outputs": [],
   "source": [
    "def square():\n",
    "    for i in range(4):\n",
    "        forward(100)\n",
    "        right(90)"
   ]
  },
  {
   "cell_type": "code",
   "execution_count": 13,
   "id": "598a078c",
   "metadata": {},
   "outputs": [],
   "source": [
    "def square():\n",
    "    for i in range(4):\n",
    "        forward(100)\n",
    "        right(90)\n",
    "        square()\n"
   ]
  }
 ],
 "metadata": {
  "kernelspec": {
   "display_name": "Python 3 (ipykernel)",
   "language": "python",
   "name": "python3"
  },
  "language_info": {
   "codemirror_mode": {
    "name": "ipython",
    "version": 3
   },
   "file_extension": ".py",
   "mimetype": "text/x-python",
   "name": "python",
   "nbconvert_exporter": "python",
   "pygments_lexer": "ipython3",
   "version": "3.9.7"
  }
 },
 "nbformat": 4,
 "nbformat_minor": 5
}
